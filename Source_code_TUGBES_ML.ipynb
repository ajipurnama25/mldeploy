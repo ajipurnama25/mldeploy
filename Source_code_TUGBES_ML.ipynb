{
  "cells": [
    {
      "cell_type": "markdown",
      "metadata": {
        "id": "view-in-github",
        "colab_type": "text"
      },
      "source": [
        "<a href=\"https://colab.research.google.com/github/ajipurnama25/mldeploy/blob/main/Source_code_TUGBES_ML.ipynb\" target=\"_parent\"><img src=\"https://colab.research.google.com/assets/colab-badge.svg\" alt=\"Open In Colab\"/></a>"
      ]
    },
    {
      "cell_type": "code",
      "execution_count": 1,
      "metadata": {
        "colab": {
          "base_uri": "https://localhost:8080/",
          "height": 73,
          "resources": {
            "http://localhost:8080/nbextensions/google.colab/files.js": {
              "data": "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",
              "headers": [
                [
                  "content-type",
                  "application/javascript"
                ]
              ],
              "ok": true,
              "status": 200,
              "status_text": ""
            }
          }
        },
        "id": "UH2yiUiPWsCS",
        "outputId": "fc5de3b5-3f81-4043-d425-f00fe6dfc954"
      },
      "outputs": [
        {
          "output_type": "display_data",
          "data": {
            "text/html": [
              "\n",
              "     <input type=\"file\" id=\"files-cd76ae9a-50a9-4085-8da3-a6aa89191e73\" name=\"files[]\" multiple disabled\n",
              "        style=\"border:none\" />\n",
              "     <output id=\"result-cd76ae9a-50a9-4085-8da3-a6aa89191e73\">\n",
              "      Upload widget is only available when the cell has been executed in the\n",
              "      current browser session. Please rerun this cell to enable.\n",
              "      </output>\n",
              "      <script src=\"/nbextensions/google.colab/files.js\"></script> "
            ],
            "text/plain": [
              "<IPython.core.display.HTML object>"
            ]
          },
          "metadata": {}
        },
        {
          "output_type": "stream",
          "name": "stdout",
          "text": [
            "Saving kaggle.json to kaggle.json\n"
          ]
        }
      ],
      "source": [
        "from google.colab import files\n",
        "uploaded = files.upload()"
      ]
    },
    {
      "cell_type": "code",
      "execution_count": 2,
      "metadata": {
        "colab": {
          "base_uri": "https://localhost:8080/"
        },
        "id": "IbbnqOaD7zoY",
        "outputId": "58d71fd0-c229-4446-9a2b-f34888b613d0"
      },
      "outputs": [
        {
          "output_type": "stream",
          "name": "stdout",
          "text": [
            "Requirement already satisfied: kaggle in /usr/local/lib/python3.7/dist-packages (1.5.12)\n",
            "Requirement already satisfied: tqdm in /usr/local/lib/python3.7/dist-packages (from kaggle) (4.62.3)\n",
            "Requirement already satisfied: certifi in /usr/local/lib/python3.7/dist-packages (from kaggle) (2021.10.8)\n",
            "Requirement already satisfied: python-dateutil in /usr/local/lib/python3.7/dist-packages (from kaggle) (2.8.2)\n",
            "Requirement already satisfied: urllib3 in /usr/local/lib/python3.7/dist-packages (from kaggle) (1.24.3)\n",
            "Requirement already satisfied: python-slugify in /usr/local/lib/python3.7/dist-packages (from kaggle) (5.0.2)\n",
            "Requirement already satisfied: requests in /usr/local/lib/python3.7/dist-packages (from kaggle) (2.23.0)\n",
            "Requirement already satisfied: six>=1.10 in /usr/local/lib/python3.7/dist-packages (from kaggle) (1.15.0)\n",
            "Requirement already satisfied: text-unidecode>=1.3 in /usr/local/lib/python3.7/dist-packages (from python-slugify->kaggle) (1.3)\n",
            "Requirement already satisfied: chardet<4,>=3.0.2 in /usr/local/lib/python3.7/dist-packages (from requests->kaggle) (3.0.4)\n",
            "Requirement already satisfied: idna<3,>=2.5 in /usr/local/lib/python3.7/dist-packages (from requests->kaggle) (2.10)\n"
          ]
        }
      ],
      "source": [
        "!pip install kaggle\n",
        "!mkdir ~/.kaggle\n",
        "!cp kaggle.json ~/.kaggle/\n",
        "!chmod 600 ~/.kaggle/kaggle.json"
      ]
    },
    {
      "cell_type": "code",
      "execution_count": 3,
      "metadata": {
        "colab": {
          "base_uri": "https://localhost:8080/"
        },
        "id": "4UA56ntj7zlX",
        "outputId": "8eb79ddc-8467-4ea3-d219-c49f90bb117d"
      },
      "outputs": [
        {
          "output_type": "stream",
          "name": "stdout",
          "text": [
            "Downloading rice-leaf-diseases.zip to /content\n",
            " 46% 17.0M/36.7M [00:00<00:00, 53.1MB/s]\n",
            "100% 36.7M/36.7M [00:00<00:00, 80.6MB/s]\n"
          ]
        }
      ],
      "source": [
        "!kaggle datasets download -d vbookshelf/rice-leaf-diseases"
      ]
    },
    {
      "cell_type": "code",
      "execution_count": 4,
      "metadata": {
        "colab": {
          "base_uri": "https://localhost:8080/"
        },
        "id": "IaPo5qe97zij",
        "outputId": "d4ef6a1a-da31-4d5e-93c2-9f1f7a3228ad"
      },
      "outputs": [
        {
          "output_type": "stream",
          "name": "stdout",
          "text": [
            "Archive:  rice-leaf-diseases.zip\n",
            "  inflating: rice_leaf_diseases/Bacterial leaf blight/DSC_0365.JPG  \n",
            "  inflating: rice_leaf_diseases/Bacterial leaf blight/DSC_0366.jpg  \n",
            "  inflating: rice_leaf_diseases/Bacterial leaf blight/DSC_0367.JPG  \n",
            "  inflating: rice_leaf_diseases/Bacterial leaf blight/DSC_0370.jpg  \n",
            "  inflating: rice_leaf_diseases/Bacterial leaf blight/DSC_0372.JPG  \n",
            "  inflating: rice_leaf_diseases/Bacterial leaf blight/DSC_0373.JPG  \n",
            "  inflating: rice_leaf_diseases/Bacterial leaf blight/DSC_0374.JPG  \n",
            "  inflating: rice_leaf_diseases/Bacterial leaf blight/DSC_0375.JPG  \n",
            "  inflating: rice_leaf_diseases/Bacterial leaf blight/DSC_0376.JPG  \n",
            "  inflating: rice_leaf_diseases/Bacterial leaf blight/DSC_0377.JPG  \n",
            "  inflating: rice_leaf_diseases/Bacterial leaf blight/DSC_0378.JPG  \n",
            "  inflating: rice_leaf_diseases/Bacterial leaf blight/DSC_0379.JPG  \n",
            "  inflating: rice_leaf_diseases/Bacterial leaf blight/DSC_0380.JPG  \n",
            "  inflating: rice_leaf_diseases/Bacterial leaf blight/DSC_0381.JPG  \n",
            "  inflating: rice_leaf_diseases/Bacterial leaf blight/DSC_0382.JPG  \n",
            "  inflating: rice_leaf_diseases/Bacterial leaf blight/DSC_0383.JPG  \n",
            "  inflating: rice_leaf_diseases/Bacterial leaf blight/DSC_0384.JPG  \n",
            "  inflating: rice_leaf_diseases/Bacterial leaf blight/DSC_0385.jpg  \n",
            "  inflating: rice_leaf_diseases/Bacterial leaf blight/DSC_0386.JPG  \n",
            "  inflating: rice_leaf_diseases/Bacterial leaf blight/DSC_0388.JPG  \n",
            "  inflating: rice_leaf_diseases/Bacterial leaf blight/DSC_0389.JPG  \n",
            "  inflating: rice_leaf_diseases/Bacterial leaf blight/DSC_0390.JPG  \n",
            "  inflating: rice_leaf_diseases/Bacterial leaf blight/DSC_0392.JPG  \n",
            "  inflating: rice_leaf_diseases/Bacterial leaf blight/DSC_0393.JPG  \n",
            "  inflating: rice_leaf_diseases/Bacterial leaf blight/DSC_0395.JPG  \n",
            "  inflating: rice_leaf_diseases/Bacterial leaf blight/DSC_0396.JPG  \n",
            "  inflating: rice_leaf_diseases/Bacterial leaf blight/DSC_0397.JPG  \n",
            "  inflating: rice_leaf_diseases/Bacterial leaf blight/DSC_0398.JPG  \n",
            "  inflating: rice_leaf_diseases/Bacterial leaf blight/DSC_0399.JPG  \n",
            "  inflating: rice_leaf_diseases/Bacterial leaf blight/DSC_0400.JPG  \n",
            "  inflating: rice_leaf_diseases/Bacterial leaf blight/DSC_0401.JPG  \n",
            "  inflating: rice_leaf_diseases/Bacterial leaf blight/DSC_0402.JPG  \n",
            "  inflating: rice_leaf_diseases/Bacterial leaf blight/DSC_0403.JPG  \n",
            "  inflating: rice_leaf_diseases/Bacterial leaf blight/DSC_0404.JPG  \n",
            "  inflating: rice_leaf_diseases/Bacterial leaf blight/DSC_0405.JPG  \n",
            "  inflating: rice_leaf_diseases/Bacterial leaf blight/DSC_0406.JPG  \n",
            "  inflating: rice_leaf_diseases/Bacterial leaf blight/DSC_0700.jpg  \n",
            "  inflating: rice_leaf_diseases/Bacterial leaf blight/DSC_0701.jpg  \n",
            "  inflating: rice_leaf_diseases/Bacterial leaf blight/DSC_0702.jpg  \n",
            "  inflating: rice_leaf_diseases/Bacterial leaf blight/DSC_0703.JPG  \n",
            "  inflating: rice_leaf_diseases/Brown spot/DSC_0100.jpg  \n",
            "  inflating: rice_leaf_diseases/Brown spot/DSC_0101.jpg  \n",
            "  inflating: rice_leaf_diseases/Brown spot/DSC_0104.jpg  \n",
            "  inflating: rice_leaf_diseases/Brown spot/DSC_0105.jpg  \n",
            "  inflating: rice_leaf_diseases/Brown spot/DSC_0106.jpg  \n",
            "  inflating: rice_leaf_diseases/Brown spot/DSC_0107.jpg  \n",
            "  inflating: rice_leaf_diseases/Brown spot/DSC_0108.jpg  \n",
            "  inflating: rice_leaf_diseases/Brown spot/DSC_0109.jpg  \n",
            "  inflating: rice_leaf_diseases/Brown spot/DSC_0110.jpg  \n",
            "  inflating: rice_leaf_diseases/Brown spot/DSC_0111.jpg  \n",
            "  inflating: rice_leaf_diseases/Brown spot/DSC_0112.jpg  \n",
            "  inflating: rice_leaf_diseases/Brown spot/DSC_0113.jpg  \n",
            "  inflating: rice_leaf_diseases/Brown spot/DSC_0114.jpg  \n",
            "  inflating: rice_leaf_diseases/Brown spot/DSC_0115.jpg  \n",
            "  inflating: rice_leaf_diseases/Brown spot/DSC_0116.jpg  \n",
            "  inflating: rice_leaf_diseases/Brown spot/DSC_0117.jpg  \n",
            "  inflating: rice_leaf_diseases/Brown spot/DSC_0118.jpg  \n",
            "  inflating: rice_leaf_diseases/Brown spot/DSC_0119.jpg  \n",
            "  inflating: rice_leaf_diseases/Brown spot/DSC_0121.jpg  \n",
            "  inflating: rice_leaf_diseases/Brown spot/DSC_0292.JPG  \n",
            "  inflating: rice_leaf_diseases/Brown spot/DSC_0295.JPG  \n",
            "  inflating: rice_leaf_diseases/Brown spot/DSC_0296.jpg  \n",
            "  inflating: rice_leaf_diseases/Brown spot/DSC_0299.JPG  \n",
            "  inflating: rice_leaf_diseases/Brown spot/DSC_0300.JPG  \n",
            "  inflating: rice_leaf_diseases/Brown spot/DSC_0301.JPG  \n",
            "  inflating: rice_leaf_diseases/Brown spot/DSC_0302.JPG  \n",
            "  inflating: rice_leaf_diseases/Brown spot/DSC_0303.JPG  \n",
            "  inflating: rice_leaf_diseases/Brown spot/DSC_0304.JPG  \n",
            "  inflating: rice_leaf_diseases/Brown spot/DSC_0305.JPG  \n",
            "  inflating: rice_leaf_diseases/Brown spot/DSC_0306.JPG  \n",
            "  inflating: rice_leaf_diseases/Brown spot/DSC_0307.JPG  \n",
            "  inflating: rice_leaf_diseases/Brown spot/DSC_0323.JPG  \n",
            "  inflating: rice_leaf_diseases/Brown spot/DSC_0324.JPG  \n",
            "  inflating: rice_leaf_diseases/Brown spot/DSC_0325.JPG  \n",
            "  inflating: rice_leaf_diseases/Brown spot/DSC_0329.jpg  \n",
            "  inflating: rice_leaf_diseases/Brown spot/DSC_0332.JPG  \n",
            "  inflating: rice_leaf_diseases/Brown spot/DSC_0333.JPG  \n",
            "  inflating: rice_leaf_diseases/Brown spot/DSC_0337.JPG  \n",
            "  inflating: rice_leaf_diseases/Brown spot/DSC_0391.jpg  \n",
            "  inflating: rice_leaf_diseases/Brown spot/DSC_0394.jpg  \n",
            "  inflating: rice_leaf_diseases/Leaf smut/DSC_0293.JPG  \n",
            "  inflating: rice_leaf_diseases/Leaf smut/DSC_0308.JPG  \n",
            "  inflating: rice_leaf_diseases/Leaf smut/DSC_0309.JPG  \n",
            "  inflating: rice_leaf_diseases/Leaf smut/DSC_0310.JPG  \n",
            "  inflating: rice_leaf_diseases/Leaf smut/DSC_0312.JPG  \n",
            "  inflating: rice_leaf_diseases/Leaf smut/DSC_0313.JPG  \n",
            "  inflating: rice_leaf_diseases/Leaf smut/DSC_0314.JPG  \n",
            "  inflating: rice_leaf_diseases/Leaf smut/DSC_0315.jpg  \n",
            "  inflating: rice_leaf_diseases/Leaf smut/DSC_0316.JPG  \n",
            "  inflating: rice_leaf_diseases/Leaf smut/DSC_0317.JPG  \n",
            "  inflating: rice_leaf_diseases/Leaf smut/DSC_0318.JPG  \n",
            "  inflating: rice_leaf_diseases/Leaf smut/DSC_0319.jpg  \n",
            "  inflating: rice_leaf_diseases/Leaf smut/DSC_0320.JPG  \n",
            "  inflating: rice_leaf_diseases/Leaf smut/DSC_0321.JPG  \n",
            "  inflating: rice_leaf_diseases/Leaf smut/DSC_0322.jpg  \n",
            "  inflating: rice_leaf_diseases/Leaf smut/DSC_0327.JPG  \n",
            "  inflating: rice_leaf_diseases/Leaf smut/DSC_0328.jpg  \n",
            "  inflating: rice_leaf_diseases/Leaf smut/DSC_0330.jpg  \n",
            "  inflating: rice_leaf_diseases/Leaf smut/DSC_0331.JPG  \n",
            "  inflating: rice_leaf_diseases/Leaf smut/DSC_0335.JPG  \n",
            "  inflating: rice_leaf_diseases/Leaf smut/DSC_0336.jpg  \n",
            "  inflating: rice_leaf_diseases/Leaf smut/DSC_0338.JPG  \n",
            "  inflating: rice_leaf_diseases/Leaf smut/DSC_0339.jpg  \n",
            "  inflating: rice_leaf_diseases/Leaf smut/DSC_0500.jpg  \n",
            "  inflating: rice_leaf_diseases/Leaf smut/DSC_0501.jpg  \n",
            "  inflating: rice_leaf_diseases/Leaf smut/DSC_0502.jpg  \n",
            "  inflating: rice_leaf_diseases/Leaf smut/DSC_0503.jpg  \n",
            "  inflating: rice_leaf_diseases/Leaf smut/DSC_0504.jpg  \n",
            "  inflating: rice_leaf_diseases/Leaf smut/DSC_0505.jpg  \n",
            "  inflating: rice_leaf_diseases/Leaf smut/DSC_0506.jpg  \n",
            "  inflating: rice_leaf_diseases/Leaf smut/DSC_0507.jpg  \n",
            "  inflating: rice_leaf_diseases/Leaf smut/DSC_0508.jpg  \n",
            "  inflating: rice_leaf_diseases/Leaf smut/DSC_0509.jpg  \n",
            "  inflating: rice_leaf_diseases/Leaf smut/DSC_0510.jpg  \n",
            "  inflating: rice_leaf_diseases/Leaf smut/DSC_0511.jpg  \n",
            "  inflating: rice_leaf_diseases/Leaf smut/DSC_0512.jpg  \n",
            "  inflating: rice_leaf_diseases/Leaf smut/DSC_0513.jpg  \n",
            "  inflating: rice_leaf_diseases/Leaf smut/DSC_0514.jpg  \n",
            "  inflating: rice_leaf_diseases/Leaf smut/DSC_0515.jpg  \n",
            "  inflating: rice_leaf_diseases/Leaf smut/DSC_0516.jpg  \n"
          ]
        }
      ],
      "source": [
        "\n",
        "!unzip rice-leaf-diseases.zip"
      ]
    },
    {
      "cell_type": "code",
      "execution_count": 5,
      "metadata": {
        "id": "pAesziOA7zgj"
      },
      "outputs": [],
      "source": [
        "!mkdir '/content/dataset'"
      ]
    },
    {
      "cell_type": "code",
      "execution_count": 6,
      "metadata": {
        "id": "ivGpNkLv7zeU"
      },
      "outputs": [],
      "source": [
        "!mv \"/content/rice_leaf_diseases/Leaf smut\" \"/content/dataset\"\n",
        "!mv \"/content/rice_leaf_diseases/Brown spot\" \"/content/dataset\"\n",
        "!mv \"/content/rice_leaf_diseases/Bacterial leaf blight\" \"/content/dataset\""
      ]
    },
    {
      "cell_type": "code",
      "execution_count": 7,
      "metadata": {
        "colab": {
          "base_uri": "https://localhost:8080/"
        },
        "id": "MreJg9y987YT",
        "outputId": "f84aee3b-9c2d-41b9-e6b0-d102e9dd22b7"
      },
      "outputs": [
        {
          "output_type": "stream",
          "name": "stdout",
          "text": [
            "Collecting split-folders\n",
            "  Downloading split_folders-0.4.3-py3-none-any.whl (7.4 kB)\n",
            "Installing collected packages: split-folders\n",
            "Successfully installed split-folders-0.4.3\n"
          ]
        }
      ],
      "source": [
        "!pip install split-folders"
      ]
    },
    {
      "cell_type": "code",
      "execution_count": 8,
      "metadata": {
        "id": "hKoLUi777zcM"
      },
      "outputs": [],
      "source": [
        "!mkdir splitdata"
      ]
    },
    {
      "cell_type": "code",
      "execution_count": 9,
      "metadata": {
        "colab": {
          "base_uri": "https://localhost:8080/"
        },
        "id": "Jp9wkIHt7zaH",
        "outputId": "eeea32de-c976-4d0c-a0ab-191ff7765580"
      },
      "outputs": [
        {
          "output_type": "stream",
          "name": "stderr",
          "text": [
            "Copying files: 120 files [00:00, 893.91 files/s]\n"
          ]
        }
      ],
      "source": [
        "import splitfolders\n",
        "\n",
        "base_dir = \"/content/dataset\"\n",
        "splitfolders.ratio(base_dir, output=\"splitdata\", \n",
        "                   ratio=(.8, .1, .1))"
      ]
    },
    {
      "cell_type": "code",
      "execution_count": 10,
      "metadata": {
        "id": "ugftVOwb7zX7"
      },
      "outputs": [],
      "source": [
        "import os\n",
        "train_path = os.path.join(base_dir,'/content/splitdata/train')\n",
        "test_path  = os.path.join(base_dir,'/content/splitdata/test')\n",
        "val_path   = os.path.join(base_dir,'/content/splitdata/val')"
      ]
    },
    {
      "cell_type": "code",
      "execution_count": 11,
      "metadata": {
        "colab": {
          "base_uri": "https://localhost:8080/"
        },
        "id": "4_6p_taD7zVb",
        "outputId": "23827aa4-e0b1-4a09-d735-59eba0cc8231"
      },
      "outputs": [
        {
          "output_type": "stream",
          "name": "stdout",
          "text": [
            "Found 96 images belonging to 3 classes.\n",
            "Found 12 images belonging to 3 classes.\n",
            "Found 12 images belonging to 3 classes.\n"
          ]
        }
      ],
      "source": [
        "# TULIS KODE ANDA DISINI\n",
        "from keras.preprocessing.image import ImageDataGenerator\n",
        "from sklearn.utils import shuffle\n",
        "Batch_size=32\n",
        "augmen_gen = ImageDataGenerator(rescale=1. / 255,\n",
        "                            rotation_range=40,\n",
        "                            width_shift_range=0.2,\n",
        "                            height_shift_range=0.2,\n",
        "                            zoom_range=0.2,\n",
        "                            shear_range=0.2,\n",
        "                            horizontal_flip=True,\n",
        "                            fill_mode='nearest')\n",
        "\n",
        "train_gen = augmen_gen.flow_from_directory(\n",
        "    train_path,\n",
        "    class_mode = 'categorical',\n",
        "    shuffle=False,\n",
        "    target_size = (224,224),\n",
        "    batch_size=Batch_size,\n",
        "    color_mode ='rgb'\n",
        ")\n",
        "\n",
        "val_gen = augmen_gen.flow_from_directory(\n",
        "    val_path,\n",
        "    class_mode = 'categorical',\n",
        "    shuffle=False,\n",
        "    target_size = (224,224),\n",
        "    batch_size=Batch_size,\n",
        "    color_mode ='rgb'\n",
        ")\n",
        "\n",
        "test_gen = augmen_gen.flow_from_directory(\n",
        "    test_path,\n",
        "    class_mode = 'categorical',\n",
        "    shuffle=False,\n",
        "    target_size = (224,224),\n",
        "    batch_size=Batch_size,\n",
        "    color_mode ='rgb',\n",
        ")"
      ]
    },
    {
      "cell_type": "code",
      "execution_count": 12,
      "metadata": {
        "id": "wr8ChTQT7zTC"
      },
      "outputs": [],
      "source": [
        "# Tulis Kode Anda Disini\n",
        "from tensorflow.keras.models import Sequential, load_model\n",
        "from tensorflow.keras.layers import InputLayer, Dense, Conv2D, MaxPool2D, Flatten, GlobalMaxPooling2D, GlobalAveragePooling2D, Normalization, Dropout, BatchNormalization,AveragePooling2D,MaxPooling2D"
      ]
    },
    {
      "cell_type": "code",
      "execution_count": 13,
      "metadata": {
        "id": "CqkJGp157zQe",
        "colab": {
          "base_uri": "https://localhost:8080/"
        },
        "outputId": "4a0fe759-1a2d-47d0-9342-b7d2f5e61e22"
      },
      "outputs": [
        {
          "output_type": "stream",
          "name": "stdout",
          "text": [
            "Downloading data from https://storage.googleapis.com/tensorflow/keras-applications/inception_resnet_v2/inception_resnet_v2_weights_tf_dim_ordering_tf_kernels_notop.h5\n",
            "219062272/219055592 [==============================] - 4s 0us/step\n",
            "219070464/219055592 [==============================] - 4s 0us/step\n"
          ]
        }
      ],
      "source": [
        "from tensorflow.keras.applications.inception_resnet_v2 import InceptionResNetV2\n",
        "\n",
        "## Loading VGG16 model\n",
        "baseModel = InceptionResNetV2(weights=\"imagenet\", include_top=False, input_shape=(224,224,3))\n",
        "baseModel.trainable = False ## Not trainable weights"
      ]
    },
    {
      "cell_type": "code",
      "execution_count": 25,
      "metadata": {
        "id": "yYdHtlwB7zN-"
      },
      "outputs": [],
      "source": [
        "# TULIS KODE ANDA DISINI\n",
        "\n",
        "# Feature Extraction Layer\n",
        "model = Sequential()\n",
        "\n",
        "model.add(baseModel)\n",
        "model.add(GlobalAveragePooling2D())\n",
        "\n",
        "# Fully Connected Layer\n",
        "model.add(Flatten())\n",
        "model.add(Dense(128, activation='relu'))\n",
        "model.add(Dense(64, activation='relu'))\n",
        "model.add(Dropout(0.2))\n",
        "\n",
        "model.add(Dense(3, activation='softmax'))\n",
        "\n",
        "#model.add(Dense(64, activation='relu'))\n",
        "# model.add(Dropout(0.5))"
      ]
    },
    {
      "cell_type": "code",
      "source": [
        "# base_model = Xception(weights=None, include_top=False, input_shape=(270, 480, 3))\n",
        "\n",
        "#     # add a global spatial average pooling layer\n",
        "#     x = base_model.output\n",
        "#     x = GlobalAveragePooling2D()(x)\n",
        "#     # add a fully-connected layer\n",
        "#     x = Dense(1024, activation='relu')(x)\n",
        "#     # putput layer\n",
        "#     predictions = Dense(session.training_dataset_info['number_of_labels'], activation='softmax')(x)\n",
        "#     # model\n",
        "#     model = Model(inputs=base_model.input, outputs=predictions)"
      ],
      "metadata": {
        "id": "2Tu7wcvEQHng"
      },
      "execution_count": 20,
      "outputs": []
    },
    {
      "cell_type": "code",
      "execution_count": 27,
      "metadata": {
        "id": "Oe-JN0RM7zDl",
        "colab": {
          "base_uri": "https://localhost:8080/"
        },
        "outputId": "6debb907-e228-4420-be9e-d3c483054528"
      },
      "outputs": [
        {
          "output_type": "stream",
          "name": "stderr",
          "text": [
            "/usr/local/lib/python3.7/dist-packages/keras/optimizer_v2/adam.py:105: UserWarning: The `lr` argument is deprecated, use `learning_rate` instead.\n",
            "  super(Adam, self).__init__(name, **kwargs)\n"
          ]
        }
      ],
      "source": [
        "from tensorflow.keras.optimizers import Adam\n",
        "\n",
        "model.compile(optimizer=Adam(lr=0.001), \n",
        "              loss='categorical_crossentropy', \n",
        "              metrics=['acc'])"
      ]
    },
    {
      "cell_type": "code",
      "execution_count": 28,
      "metadata": {
        "id": "z2FBzcyj7zBf",
        "colab": {
          "base_uri": "https://localhost:8080/"
        },
        "outputId": "e7f1963a-48eb-48ae-c6ca-939cb80d3032"
      },
      "outputs": [
        {
          "output_type": "stream",
          "name": "stdout",
          "text": [
            "Epoch 1/100\n",
            "3/3 [==============================] - 22s 4s/step - loss: 2.9448 - acc: 0.0938 - val_loss: 1.6874 - val_acc: 0.3333\n",
            "Epoch 2/100\n",
            "3/3 [==============================] - 5s 2s/step - loss: 1.4356 - acc: 0.2500 - val_loss: 1.1817 - val_acc: 0.5000\n",
            "Epoch 3/100\n",
            "3/3 [==============================] - 5s 2s/step - loss: 1.6001 - acc: 0.3021 - val_loss: 1.2041 - val_acc: 0.5833\n",
            "Epoch 4/100\n",
            "3/3 [==============================] - 5s 2s/step - loss: 1.4148 - acc: 0.3438 - val_loss: 1.0753 - val_acc: 0.5833\n",
            "Epoch 5/100\n",
            "3/3 [==============================] - 5s 2s/step - loss: 0.9716 - acc: 0.5000 - val_loss: 0.9526 - val_acc: 0.6667\n",
            "Epoch 6/100\n",
            "3/3 [==============================] - 5s 2s/step - loss: 1.2558 - acc: 0.3542 - val_loss: 1.0881 - val_acc: 0.5000\n",
            "Epoch 7/100\n",
            "3/3 [==============================] - 6s 2s/step - loss: 1.0657 - acc: 0.4896 - val_loss: 1.1016 - val_acc: 0.4167\n",
            "Epoch 8/100\n",
            "3/3 [==============================] - 5s 2s/step - loss: 1.0971 - acc: 0.4479 - val_loss: 1.0312 - val_acc: 0.5000\n",
            "Epoch 9/100\n",
            "3/3 [==============================] - 5s 2s/step - loss: 0.8090 - acc: 0.6667 - val_loss: 0.9816 - val_acc: 0.5833\n",
            "Epoch 10/100\n",
            "3/3 [==============================] - 5s 2s/step - loss: 0.7509 - acc: 0.7396 - val_loss: 0.8763 - val_acc: 0.4167\n",
            "Epoch 11/100\n",
            "3/3 [==============================] - 5s 2s/step - loss: 0.6903 - acc: 0.6979 - val_loss: 0.8750 - val_acc: 0.5833\n",
            "Epoch 12/100\n",
            "3/3 [==============================] - 5s 2s/step - loss: 0.7595 - acc: 0.6458 - val_loss: 0.6906 - val_acc: 0.7500\n",
            "Epoch 13/100\n",
            "3/3 [==============================] - 5s 2s/step - loss: 0.6377 - acc: 0.7708 - val_loss: 0.7236 - val_acc: 0.6667\n",
            "Epoch 14/100\n",
            "3/3 [==============================] - 5s 2s/step - loss: 0.5891 - acc: 0.8229 - val_loss: 0.8208 - val_acc: 0.5833\n",
            "Epoch 15/100\n",
            "3/3 [==============================] - 5s 2s/step - loss: 0.5321 - acc: 0.7708 - val_loss: 0.8243 - val_acc: 0.7500\n",
            "Epoch 16/100\n",
            "3/3 [==============================] - 5s 2s/step - loss: 0.4992 - acc: 0.8021 - val_loss: 1.0128 - val_acc: 0.5000\n",
            "Epoch 17/100\n",
            "3/3 [==============================] - 5s 2s/step - loss: 0.4689 - acc: 0.8438 - val_loss: 0.8351 - val_acc: 0.6667\n",
            "Epoch 18/100\n",
            "3/3 [==============================] - 5s 2s/step - loss: 0.4848 - acc: 0.8229 - val_loss: 0.7596 - val_acc: 0.6667\n",
            "Epoch 19/100\n",
            "3/3 [==============================] - 5s 2s/step - loss: 0.4771 - acc: 0.8229 - val_loss: 0.6685 - val_acc: 0.6667\n",
            "Epoch 20/100\n",
            "3/3 [==============================] - 5s 2s/step - loss: 0.4908 - acc: 0.8125 - val_loss: 0.7520 - val_acc: 0.6667\n",
            "Epoch 21/100\n",
            "3/3 [==============================] - 5s 2s/step - loss: 0.4204 - acc: 0.8125 - val_loss: 0.5134 - val_acc: 0.7500\n",
            "Epoch 22/100\n",
            "3/3 [==============================] - 5s 2s/step - loss: 0.4369 - acc: 0.8125 - val_loss: 0.8540 - val_acc: 0.5833\n",
            "Epoch 23/100\n",
            "3/3 [==============================] - 5s 2s/step - loss: 0.4373 - acc: 0.8125 - val_loss: 0.6389 - val_acc: 0.6667\n",
            "Epoch 24/100\n",
            "3/3 [==============================] - 5s 2s/step - loss: 0.3968 - acc: 0.8333 - val_loss: 0.5048 - val_acc: 0.8333\n",
            "Epoch 25/100\n",
            "3/3 [==============================] - 5s 2s/step - loss: 0.4021 - acc: 0.8646 - val_loss: 0.7117 - val_acc: 0.7500\n",
            "Epoch 26/100\n",
            "3/3 [==============================] - 5s 2s/step - loss: 0.3048 - acc: 0.9062 - val_loss: 0.7361 - val_acc: 0.6667\n",
            "Epoch 27/100\n",
            "3/3 [==============================] - 5s 2s/step - loss: 0.3448 - acc: 0.8958 - val_loss: 0.6043 - val_acc: 0.7500\n",
            "Epoch 28/100\n",
            "3/3 [==============================] - 5s 2s/step - loss: 0.3343 - acc: 0.9271 - val_loss: 0.5789 - val_acc: 0.8333\n",
            "Epoch 29/100\n",
            "3/3 [==============================] - 5s 2s/step - loss: 0.3052 - acc: 0.9062 - val_loss: 0.6328 - val_acc: 0.7500\n",
            "Epoch 30/100\n",
            "3/3 [==============================] - 5s 2s/step - loss: 0.2851 - acc: 0.9167 - val_loss: 0.8635 - val_acc: 0.5833\n",
            "Epoch 31/100\n",
            "3/3 [==============================] - 5s 2s/step - loss: 0.2665 - acc: 0.9271 - val_loss: 1.0317 - val_acc: 0.5833\n",
            "Epoch 32/100\n",
            "3/3 [==============================] - 5s 2s/step - loss: 0.2674 - acc: 0.9271 - val_loss: 0.4268 - val_acc: 0.7500\n",
            "Epoch 33/100\n",
            "3/3 [==============================] - 5s 2s/step - loss: 0.2656 - acc: 0.9062 - val_loss: 0.6357 - val_acc: 0.6667\n",
            "Epoch 34/100\n",
            "3/3 [==============================] - 5s 2s/step - loss: 0.1826 - acc: 0.9479 - val_loss: 0.8748 - val_acc: 0.7500\n",
            "Epoch 35/100\n",
            "3/3 [==============================] - 5s 2s/step - loss: 0.1844 - acc: 0.9688 - val_loss: 0.6898 - val_acc: 0.6667\n",
            "Epoch 36/100\n",
            "3/3 [==============================] - 5s 2s/step - loss: 0.2247 - acc: 0.9375 - val_loss: 0.6237 - val_acc: 0.7500\n",
            "Epoch 37/100\n",
            "3/3 [==============================] - 5s 2s/step - loss: 0.2324 - acc: 0.9479 - val_loss: 0.7078 - val_acc: 0.6667\n",
            "Epoch 38/100\n",
            "3/3 [==============================] - 5s 2s/step - loss: 0.2492 - acc: 0.8958 - val_loss: 0.4658 - val_acc: 0.7500\n",
            "Epoch 39/100\n",
            "3/3 [==============================] - 5s 2s/step - loss: 0.2799 - acc: 0.8750 - val_loss: 0.2939 - val_acc: 0.9167\n",
            "Epoch 40/100\n",
            "3/3 [==============================] - 5s 2s/step - loss: 0.1638 - acc: 0.9583 - val_loss: 0.8183 - val_acc: 0.6667\n",
            "Epoch 41/100\n",
            "3/3 [==============================] - 5s 2s/step - loss: 0.2522 - acc: 0.8958 - val_loss: 0.9957 - val_acc: 0.5833\n",
            "Epoch 42/100\n",
            "3/3 [==============================] - 5s 2s/step - loss: 0.1539 - acc: 0.9896 - val_loss: 0.6777 - val_acc: 0.7500\n",
            "Epoch 43/100\n",
            "3/3 [==============================] - 5s 2s/step - loss: 0.1638 - acc: 0.9583 - val_loss: 0.6139 - val_acc: 0.8333\n",
            "Epoch 44/100\n",
            "3/3 [==============================] - 5s 2s/step - loss: 0.2555 - acc: 0.9271 - val_loss: 0.3861 - val_acc: 0.8333\n",
            "Epoch 45/100\n",
            "3/3 [==============================] - 5s 2s/step - loss: 0.1547 - acc: 0.9688 - val_loss: 0.3465 - val_acc: 0.8333\n",
            "Epoch 46/100\n",
            "3/3 [==============================] - 5s 2s/step - loss: 0.1811 - acc: 0.9375 - val_loss: 0.3993 - val_acc: 0.8333\n",
            "Epoch 47/100\n",
            "3/3 [==============================] - 5s 2s/step - loss: 0.1430 - acc: 0.9688 - val_loss: 0.3775 - val_acc: 0.7500\n",
            "Epoch 48/100\n",
            "3/3 [==============================] - 5s 2s/step - loss: 0.1375 - acc: 0.9792 - val_loss: 0.3142 - val_acc: 0.9167\n",
            "Epoch 49/100\n",
            "3/3 [==============================] - 5s 2s/step - loss: 0.1048 - acc: 0.9896 - val_loss: 0.5859 - val_acc: 0.6667\n",
            "Epoch 50/100\n",
            "3/3 [==============================] - 5s 2s/step - loss: 0.1062 - acc: 0.9792 - val_loss: 0.5795 - val_acc: 0.7500\n",
            "Epoch 51/100\n",
            "3/3 [==============================] - 5s 2s/step - loss: 0.1256 - acc: 0.9688 - val_loss: 0.7037 - val_acc: 0.5833\n",
            "Epoch 52/100\n",
            "3/3 [==============================] - 5s 2s/step - loss: 0.1562 - acc: 0.9479 - val_loss: 0.5806 - val_acc: 0.7500\n",
            "Epoch 53/100\n",
            "3/3 [==============================] - 5s 2s/step - loss: 0.1249 - acc: 0.9375 - val_loss: 0.2510 - val_acc: 0.9167\n",
            "Epoch 54/100\n",
            "3/3 [==============================] - 5s 2s/step - loss: 0.0948 - acc: 0.9792 - val_loss: 0.2684 - val_acc: 0.9167\n",
            "Epoch 55/100\n",
            "3/3 [==============================] - 5s 2s/step - loss: 0.1579 - acc: 0.9583 - val_loss: 0.5451 - val_acc: 0.7500\n",
            "Epoch 56/100\n",
            "3/3 [==============================] - 5s 2s/step - loss: 0.1734 - acc: 0.9479 - val_loss: 0.5022 - val_acc: 0.7500\n",
            "Epoch 57/100\n",
            "3/3 [==============================] - 5s 2s/step - loss: 0.0891 - acc: 0.9896 - val_loss: 0.6030 - val_acc: 0.7500\n",
            "Epoch 58/100\n",
            "3/3 [==============================] - 5s 2s/step - loss: 0.1079 - acc: 0.9792 - val_loss: 0.8554 - val_acc: 0.8333\n",
            "Epoch 59/100\n",
            "3/3 [==============================] - 5s 2s/step - loss: 0.1319 - acc: 0.9375 - val_loss: 0.3538 - val_acc: 0.8333\n",
            "Epoch 60/100\n",
            "3/3 [==============================] - 5s 2s/step - loss: 0.1062 - acc: 0.9688 - val_loss: 0.6097 - val_acc: 0.8333\n",
            "Epoch 61/100\n",
            "3/3 [==============================] - 5s 2s/step - loss: 0.0898 - acc: 0.9896 - val_loss: 0.9122 - val_acc: 0.7500\n",
            "Epoch 62/100\n",
            "3/3 [==============================] - 5s 2s/step - loss: 0.1024 - acc: 0.9583 - val_loss: 0.5387 - val_acc: 0.8333\n",
            "Epoch 63/100\n",
            "3/3 [==============================] - 5s 2s/step - loss: 0.0603 - acc: 0.9896 - val_loss: 0.8072 - val_acc: 0.7500\n",
            "Epoch 64/100\n",
            "3/3 [==============================] - 5s 2s/step - loss: 0.0643 - acc: 1.0000 - val_loss: 0.2972 - val_acc: 0.7500\n",
            "Epoch 65/100\n",
            "3/3 [==============================] - 5s 2s/step - loss: 0.0805 - acc: 0.9896 - val_loss: 0.3173 - val_acc: 0.9167\n",
            "Epoch 66/100\n",
            "3/3 [==============================] - 5s 2s/step - loss: 0.0572 - acc: 0.9896 - val_loss: 0.8993 - val_acc: 0.5000\n",
            "Epoch 67/100\n",
            "3/3 [==============================] - 5s 2s/step - loss: 0.1861 - acc: 0.9271 - val_loss: 0.3321 - val_acc: 0.8333\n",
            "Epoch 68/100\n",
            "3/3 [==============================] - 5s 2s/step - loss: 0.0812 - acc: 0.9896 - val_loss: 0.3436 - val_acc: 0.8333\n",
            "Epoch 69/100\n",
            "3/3 [==============================] - 5s 2s/step - loss: 0.0831 - acc: 0.9792 - val_loss: 0.9231 - val_acc: 0.7500\n",
            "Epoch 70/100\n",
            "3/3 [==============================] - 5s 2s/step - loss: 0.0899 - acc: 0.9792 - val_loss: 0.6413 - val_acc: 0.8333\n",
            "Epoch 71/100\n",
            "3/3 [==============================] - 5s 2s/step - loss: 0.1155 - acc: 0.9479 - val_loss: 0.3003 - val_acc: 0.8333\n",
            "Epoch 72/100\n",
            "3/3 [==============================] - 5s 2s/step - loss: 0.0646 - acc: 1.0000 - val_loss: 0.4092 - val_acc: 0.8333\n",
            "Epoch 73/100\n",
            "3/3 [==============================] - 5s 2s/step - loss: 0.0745 - acc: 0.9896 - val_loss: 0.4559 - val_acc: 0.9167\n",
            "Epoch 74/100\n",
            "3/3 [==============================] - 5s 2s/step - loss: 0.0778 - acc: 0.9792 - val_loss: 0.2915 - val_acc: 0.9167\n",
            "Epoch 75/100\n",
            "3/3 [==============================] - 5s 2s/step - loss: 0.0581 - acc: 1.0000 - val_loss: 0.5542 - val_acc: 0.7500\n",
            "Epoch 76/100\n",
            "3/3 [==============================] - 5s 2s/step - loss: 0.1031 - acc: 0.9479 - val_loss: 1.0438 - val_acc: 0.7500\n",
            "Epoch 77/100\n",
            "3/3 [==============================] - 5s 2s/step - loss: 0.0463 - acc: 0.9896 - val_loss: 0.8603 - val_acc: 0.5833\n",
            "Epoch 78/100\n",
            "3/3 [==============================] - 5s 2s/step - loss: 0.0594 - acc: 1.0000 - val_loss: 0.1179 - val_acc: 1.0000\n",
            "Epoch 79/100\n",
            "3/3 [==============================] - 5s 2s/step - loss: 0.0442 - acc: 1.0000 - val_loss: 0.5111 - val_acc: 0.7500\n",
            "Epoch 80/100\n",
            "3/3 [==============================] - 5s 2s/step - loss: 0.1008 - acc: 0.9688 - val_loss: 0.3206 - val_acc: 0.8333\n",
            "Epoch 81/100\n",
            "3/3 [==============================] - 5s 2s/step - loss: 0.0576 - acc: 0.9792 - val_loss: 0.6800 - val_acc: 0.8333\n",
            "Epoch 82/100\n",
            "3/3 [==============================] - 5s 2s/step - loss: 0.0433 - acc: 0.9896 - val_loss: 0.5452 - val_acc: 0.7500\n",
            "Epoch 83/100\n",
            "3/3 [==============================] - 5s 2s/step - loss: 0.0822 - acc: 0.9688 - val_loss: 0.4491 - val_acc: 0.9167\n",
            "Epoch 84/100\n",
            "3/3 [==============================] - 5s 2s/step - loss: 0.0496 - acc: 0.9896 - val_loss: 0.8567 - val_acc: 0.7500\n",
            "Epoch 85/100\n",
            "3/3 [==============================] - 5s 2s/step - loss: 0.0479 - acc: 0.9896 - val_loss: 0.8929 - val_acc: 0.6667\n",
            "Epoch 86/100\n",
            "3/3 [==============================] - 5s 2s/step - loss: 0.0670 - acc: 0.9688 - val_loss: 0.8154 - val_acc: 0.7500\n",
            "Epoch 87/100\n",
            "3/3 [==============================] - 5s 2s/step - loss: 0.0594 - acc: 0.9896 - val_loss: 0.2151 - val_acc: 0.9167\n",
            "Epoch 88/100\n",
            "3/3 [==============================] - 5s 2s/step - loss: 0.1020 - acc: 0.9583 - val_loss: 0.6767 - val_acc: 0.6667\n",
            "Epoch 89/100\n",
            "3/3 [==============================] - 5s 2s/step - loss: 0.0515 - acc: 0.9792 - val_loss: 0.5927 - val_acc: 0.8333\n",
            "Epoch 90/100\n",
            "3/3 [==============================] - 5s 2s/step - loss: 0.0381 - acc: 0.9896 - val_loss: 0.5008 - val_acc: 0.6667\n",
            "Epoch 91/100\n",
            "3/3 [==============================] - 5s 2s/step - loss: 0.0854 - acc: 0.9583 - val_loss: 0.8591 - val_acc: 0.6667\n",
            "Epoch 92/100\n",
            "3/3 [==============================] - 5s 2s/step - loss: 0.0726 - acc: 0.9896 - val_loss: 0.2805 - val_acc: 0.9167\n",
            "Epoch 93/100\n",
            "3/3 [==============================] - 5s 2s/step - loss: 0.0720 - acc: 0.9792 - val_loss: 0.3610 - val_acc: 0.9167\n",
            "Epoch 94/100\n",
            "3/3 [==============================] - 5s 2s/step - loss: 0.0257 - acc: 1.0000 - val_loss: 0.4707 - val_acc: 0.7500\n",
            "Epoch 95/100\n",
            "3/3 [==============================] - 5s 2s/step - loss: 0.0463 - acc: 0.9896 - val_loss: 0.7849 - val_acc: 0.7500\n",
            "Epoch 96/100\n",
            "3/3 [==============================] - 5s 2s/step - loss: 0.0954 - acc: 0.9688 - val_loss: 0.2722 - val_acc: 0.8333\n",
            "Epoch 97/100\n",
            "3/3 [==============================] - 5s 2s/step - loss: 0.0494 - acc: 0.9792 - val_loss: 0.4443 - val_acc: 0.9167\n",
            "Epoch 98/100\n",
            "3/3 [==============================] - 5s 2s/step - loss: 0.0709 - acc: 0.9792 - val_loss: 0.1822 - val_acc: 0.9167\n",
            "Epoch 99/100\n",
            "3/3 [==============================] - 5s 2s/step - loss: 0.0259 - acc: 1.0000 - val_loss: 0.4641 - val_acc: 0.7500\n",
            "Epoch 100/100\n",
            "3/3 [==============================] - 5s 2s/step - loss: 0.0436 - acc: 0.9896 - val_loss: 0.5603 - val_acc: 0.6667\n"
          ]
        }
      ],
      "source": [
        "H = model.fit(train_gen, batch_size=32, epochs=100, validation_data=val_gen)"
      ]
    },
    {
      "cell_type": "code",
      "execution_count": 30,
      "metadata": {
        "id": "wnyK_wK48RNg",
        "colab": {
          "base_uri": "https://localhost:8080/",
          "height": 581
        },
        "outputId": "e8c11f2a-9703-4007-e1ce-3deacdfb240c"
      },
      "outputs": [
        {
          "output_type": "display_data",
          "data": {
            "image/png": "[encoded data removed]",
            "text/plain": [
              "<Figure size 432x288 with 1 Axes>"
            ]
          },
          "metadata": {}
        },
        {
          "output_type": "display_data",
          "data": {
            "image/png": "[encoded data removed]",
            "text/plain": [
              "<Figure size 432x288 with 1 Axes>"
            ]
          },
          "metadata": {}
        }
      ],
      "source": [
        "%matplotlib inline\n",
        "import matplotlib.pyplot as plt\n",
        "import numpy as np\n",
        "from keras.models import load_model\n",
        "from sklearn.metrics import classification_report, confusion_matrix\n",
        "\n",
        "plt.style.use(\"ggplot\")\n",
        "plt.figure()\n",
        "plt.plot(np.arange(0, 100), H.history[\"loss\"], label=\"train_loss\")\n",
        "plt.plot(np.arange(0, 100), H.history[\"val_loss\"], label=\"val_loss\")\n",
        "plt.title(\"Loss Plot\")\n",
        "plt.xlabel(\"Epoch #\")\n",
        "plt.ylabel(\"Loss\")\n",
        "plt.legend()\n",
        "\n",
        "plt.style.use(\"ggplot\")\n",
        "plt.figure()\n",
        "plt.plot(np.arange(0, 100), H.history[\"acc\"], label=\"train_acc\")\n",
        "plt.plot(np.arange(0,100), H.history[\"val_acc\"], label=\"val_acc\")\n",
        "plt.title(\"Accuracy Plot\")\n",
        "plt.xlabel(\"Epoch #\")\n",
        "plt.ylabel(\"Acc\")\n",
        "plt.legend()\n",
        "\n",
        "plt.show()"
      ]
    },
    {
      "cell_type": "code",
      "execution_count": 31,
      "metadata": {
        "id": "rhtDJkMU8RKP",
        "colab": {
          "base_uri": "https://localhost:8080/"
        },
        "outputId": "dda14b51-4446-4c49-9131-7b16c27d2553"
      },
      "outputs": [
        {
          "output_type": "stream",
          "name": "stdout",
          "text": [
            "              precision    recall  f1-score   support\n",
            "\n",
            "           0       1.00      1.00      1.00         4\n",
            "           1       1.00      0.75      0.86         4\n",
            "           2       0.80      1.00      0.89         4\n",
            "\n",
            "    accuracy                           0.92        12\n",
            "   macro avg       0.93      0.92      0.92        12\n",
            "weighted avg       0.93      0.92      0.92        12\n",
            "\n"
          ]
        }
      ],
      "source": [
        "ypred = model.predict(test_gen)\n",
        "predictions = np.argmax(ypred, axis = 1)\n",
        "# labels = (pred > 0.5).astype(np.int)\n",
        "print(classification_report(test_gen.classes,predictions))"
      ]
    },
    {
      "cell_type": "code",
      "source": [
        "# model.save('PrakML_ModelInceptionResNetV2.h5')\n",
        "# files.download('PrakML_ModelInceptionResNetV2.h5')"
      ],
      "metadata": {
        "id": "BG3Qo0-GWy9T"
      },
      "execution_count": null,
      "outputs": []
    }
  ],
  "metadata": {
    "accelerator": "GPU",
    "colab": {
      "collapsed_sections": [],
      "name": "Source code TUGBES ML.ipynb",
      "provenance": [],
      "include_colab_link": true
    },
    "kernelspec": {
      "display_name": "Python 3",
      "name": "python3"
    },
    "language_info": {
      "name": "python"
    }
  },
  "nbformat": 4,
  "nbformat_minor": 0
}